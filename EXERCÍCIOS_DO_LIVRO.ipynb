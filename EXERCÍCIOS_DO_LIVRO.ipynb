{
  "nbformat": 4,
  "nbformat_minor": 0,
  "metadata": {
    "colab": {
      "name": "EXERCÍCIOS DO LIVRO",
      "provenance": [],
      "authorship_tag": "ABX9TyNtZ2oX1ni/bMrwYRT7+U4d",
      "include_colab_link": true
    },
    "kernelspec": {
      "name": "python3",
      "display_name": "Python 3"
    },
    "language_info": {
      "name": "python"
    }
  },
  "cells": [
    {
      "cell_type": "markdown",
      "metadata": {
        "id": "view-in-github",
        "colab_type": "text"
      },
      "source": [
        "<a href=\"https://colab.research.google.com/github/marcosmorris/pythonteoria/blob/main/EXERC%C3%8DCIOS_DO_LIVRO.ipynb\" target=\"_parent\"><img src=\"https://colab.research.google.com/assets/colab-badge.svg\" alt=\"Open In Colab\"/></a>"
      ]
    },
    {
      "cell_type": "code",
      "execution_count": null,
      "metadata": {
        "colab": {
          "base_uri": "https://localhost:8080/"
        },
        "id": "tkWwahCMt_qO",
        "outputId": "05a58729-0f44-4032-9021-5ff814075871"
      },
      "outputs": [
        {
          "output_type": "stream",
          "name": "stdout",
          "text": [
            "Marcos Leandro Matias Morris\n"
          ]
        }
      ],
      "source": [
        "nome = 'Marcos Leandro Matias Morris'\n",
        "print(nome)"
      ]
    },
    {
      "cell_type": "code",
      "source": [
        "a = 3\n",
        "b = 5\n",
        "print(a*b)"
      ],
      "metadata": {
        "colab": {
          "base_uri": "https://localhost:8080/"
        },
        "id": "4NzKtD1AuKGJ",
        "outputId": "ff3e5aa4-e3a0-4c1b-c7fd-0ad5b9ac9140"
      },
      "execution_count": null,
      "outputs": [
        {
          "output_type": "stream",
          "name": "stdout",
          "text": [
            "15\n"
          ]
        }
      ]
    },
    {
      "cell_type": "code",
      "source": [
        "a = float(input('Digite um número:'))\n",
        "b = float(input('Digite um número:'))\n",
        "c = float(input('Digite um número:'))\n",
        "print(a+b+c)"
      ],
      "metadata": {
        "colab": {
          "base_uri": "https://localhost:8080/"
        },
        "id": "ePlNg-IOuPwq",
        "outputId": "218f1ce9-becc-474f-d821-7aaa30f2026e"
      },
      "execution_count": null,
      "outputs": [
        {
          "output_type": "stream",
          "name": "stdout",
          "text": [
            "Digite um número:5.4\n",
            "Digite um número:8\n",
            "Digite um número:3.6\n",
            "17.0\n"
          ]
        }
      ]
    },
    {
      "cell_type": "code",
      "source": [
        "salario = float(input('Digite seu sálario atual:'))\n",
        "aumento = float(input('Digite, percentualmente, o valor do seu aumento:'))\n",
        "novo_salário = str(salario+(salario*aumento)/100)\n",
        "print(f'O seu novo salário é:' + ' '+novo_salário)"
      ],
      "metadata": {
        "colab": {
          "base_uri": "https://localhost:8080/"
        },
        "id": "d_vQxKsqukXv",
        "outputId": "e68ff18f-ad1f-40ae-edde-2b5b3ad4079d"
      },
      "execution_count": null,
      "outputs": [
        {
          "output_type": "stream",
          "name": "stdout",
          "text": [
            "Digite seu sálario atual:15000\n",
            "Digite, percentualmente, o valor do seu aumento:0.25\n",
            "O seu novo slário é: 15037.5\n"
          ]
        }
      ]
    },
    {
      "cell_type": "code",
      "source": [
        "a = int(input('Digite um número inteiro qualquer:'))\n",
        "b = float(input('Digite um número qualquer:'))\n",
        "c = a + b\n",
        "print(f'A soma desejada é:' + ' '+ str(c))"
      ],
      "metadata": {
        "colab": {
          "base_uri": "https://localhost:8080/"
        },
        "id": "EjELw9dmwYF9",
        "outputId": "98119dd8-b5c0-4ae4-fa84-c63e6ceeeb4c"
      },
      "execution_count": null,
      "outputs": [
        {
          "output_type": "stream",
          "name": "stdout",
          "text": [
            "Digite um número inteiro qualquer:8\n",
            "Digite um número qualquer:8\n",
            "A soma desejada é: 16.0\n"
          ]
        }
      ]
    },
    {
      "cell_type": "code",
      "source": [
        "a = float(input('Digite o valor encontrado em metros:'))\n",
        "b = str(a*1000)\n",
        "print(f'O valor encontrado, em milímetros é:' + ' ' + b)"
      ],
      "metadata": {
        "colab": {
          "base_uri": "https://localhost:8080/"
        },
        "id": "VGOXUZKmxr9q",
        "outputId": "aa859032-6d6d-4592-a87e-11eebb327139"
      },
      "execution_count": null,
      "outputs": [
        {
          "output_type": "stream",
          "name": "stdout",
          "text": [
            "Digite o valor encontrado em metros:5.425\n",
            "O valor encontrado, em milímetros é: 5425.0\n"
          ]
        }
      ]
    },
    {
      "cell_type": "code",
      "source": [
        "salario = float(input('Digite seu sálario atual:'))\n",
        "aumento = float(input('Digite, percentualmente, o valor do seu aumento:'))\n",
        "novo_salário = str(salario+(salario*aumento)/100)\n",
        "print(f'O seu novo salário é:' + ' '+novo_salário)"
      ],
      "metadata": {
        "colab": {
          "base_uri": "https://localhost:8080/"
        },
        "id": "xUO4py_JyGb2",
        "outputId": "62106387-5959-4281-c85d-baf475a00719"
      },
      "execution_count": null,
      "outputs": [
        {
          "output_type": "stream",
          "name": "stdout",
          "text": [
            "Digite seu sálario atual:5485\n",
            "Digite, percentualmente, o valor do seu aumento:0.075\n",
            "O seu novo salário é: 5489.11375\n"
          ]
        }
      ]
    },
    {
      "cell_type": "code",
      "source": [
        "preço = float(input('Digite o valor da mercadoria:'))\n",
        "desconto = float(input('Digite o valor do desconto:'))\n",
        "final = str(preço -(preço*desconto)/100 )\n",
        "print(f'O valor a ser pago pela mercadoria é:' + ' '+ final)"
      ],
      "metadata": {
        "colab": {
          "base_uri": "https://localhost:8080/"
        },
        "id": "4GfGtcUeyVe9",
        "outputId": "9f50a82b-749f-48e6-b79c-b40739344d82"
      },
      "execution_count": null,
      "outputs": [
        {
          "output_type": "stream",
          "name": "stdout",
          "text": [
            "Digite o valor da mercadoria:425.32\n",
            "Digite o valor do desconto:10\n",
            "O valor a ser pago pela mercadoria é: 382.788\n"
          ]
        }
      ]
    },
    {
      "cell_type": "code",
      "source": [
        "temperatura_celsiu = float(input('Digite a temperatura em graus celsius:'))\n",
        "temperatura_final = str(((9*temperatura_celsiu)/5) + 32)\n",
        "print(f'A temperatura na escala Farrenheit é' + ' ' + temperatura_final)"
      ],
      "metadata": {
        "colab": {
          "base_uri": "https://localhost:8080/"
        },
        "id": "_MR7VHdBy5YQ",
        "outputId": "409f9107-d193-4f5b-ca16-f6cb19bb8919"
      },
      "execution_count": null,
      "outputs": [
        {
          "output_type": "stream",
          "name": "stdout",
          "text": [
            "Digite a temperatura em graus celsius:25.6\n",
            "A temperatura na escala Farrenheit é 78.08\n"
          ]
        }
      ]
    },
    {
      "cell_type": "code",
      "source": [
        "distancia = float(input('Digite o valor, em kilometros percorrido:'))\n",
        "dias = int(input('Digite a quantidade de dias utilizados:'))\n",
        "preço = str((dias*60)+(0.15*distancia))\n",
        "print(f'O valor final a ser pago pela locação é de:' + ''+ preço + ' ' + 'reais-')"
      ],
      "metadata": {
        "colab": {
          "base_uri": "https://localhost:8080/"
        },
        "id": "sKLwsI4PzjcQ",
        "outputId": "8e0e5354-b3a7-4aa5-dce3-44a99f18335c"
      },
      "execution_count": null,
      "outputs": [
        {
          "output_type": "stream",
          "name": "stdout",
          "text": [
            "Digite o valor, em kilometros percorrido:875.6\n",
            "Digite a quantidade de dias utilizados:9\n",
            "O valor final a ser pago pela locação é de:671.34 reais\n"
          ]
        }
      ]
    },
    {
      "cell_type": "code",
      "source": [
        "a = float(input('Digite um valor qualquer:'))\n",
        "b = float(input('Digite um valor qualquer:'))\n",
        "if a > b:\n",
        "  print('O primeiro valor digitado é maior que o segundo')\n",
        "else:\n",
        "  print('O primeiro valor é menor ou igual ao segundo valor')"
      ],
      "metadata": {
        "colab": {
          "base_uri": "https://localhost:8080/"
        },
        "id": "git2sVRr1Qty",
        "outputId": "797aab40-f0c1-4961-9891-ee21d9286b2b"
      },
      "execution_count": null,
      "outputs": [
        {
          "output_type": "stream",
          "name": "stdout",
          "text": [
            "Digite um valor qualquer:7.8\n",
            "Digite um valor qualquer:7.8\n",
            "O primeiro valor é menor ou igual ao segundo valor\n"
          ]
        }
      ]
    },
    {
      "cell_type": "code",
      "source": [
        "velocidade = float(input('Digite a velocidade do carro em kilometros por hora:'))\n",
        "if velocidade > 80:\n",
        "  print('A velocidade é maior do que a permitida')"
      ],
      "metadata": {
        "colab": {
          "base_uri": "https://localhost:8080/"
        },
        "id": "cDXrr2_91pRk",
        "outputId": "5b59582c-7136-41f9-93c5-529a71db96e7"
      },
      "execution_count": null,
      "outputs": [
        {
          "name": "stdout",
          "output_type": "stream",
          "text": [
            "Digite a velocidade do carro em kilometros por hora:79\n"
          ]
        }
      ]
    },
    {
      "cell_type": "code",
      "source": [
        "salario = float(input('Digite o valor do seu salário:'))\n",
        "base = salario\n",
        "imposto = 0\n",
        "if base > 3000:\n",
        "  imposto = str(imposto+((base-3000)*0.35))\n",
        "  print(f'O valor a ser pago é de:' + ' ' +imposto)\n",
        "if base < 1000:\n",
        "  imposto = str((base-1000)*0.2)\n",
        "  print(f'O valor a ser pago é de:' + ' ' +imposto)"
      ],
      "metadata": {
        "colab": {
          "base_uri": "https://localhost:8080/"
        },
        "id": "oAQ73aS922Ok",
        "outputId": "547e8ca3-80b9-4de8-e077-374e63dd4836"
      },
      "execution_count": null,
      "outputs": [
        {
          "name": "stdout",
          "output_type": "stream",
          "text": [
            "Digite o valor do seu salário:3000\n"
          ]
        }
      ]
    },
    {
      "cell_type": "code",
      "source": [
        "salario = float(input('Digite seu salário atual: '))\n",
        "if salario > 1250.00:\n",
        "  print(f'O seu novo salário será de:' + ' ' + str(salario*0.10 + salario))\n",
        "if salario < 1250.00:\n",
        "  print(f'O seu novo salário será de:' + ' ' +str(salario*0.15 + salario))"
      ],
      "metadata": {
        "colab": {
          "base_uri": "https://localhost:8080/"
        },
        "id": "iKlmMX5d42B0",
        "outputId": "2adcc876-472b-4851-f8ba-056c84e51b1b"
      },
      "execution_count": null,
      "outputs": [
        {
          "output_type": "stream",
          "name": "stdout",
          "text": [
            "Digite seu salário atual: 1000\n",
            "O seu novo salário será de: 1150.0\n"
          ]
        }
      ]
    },
    {
      "cell_type": "code",
      "source": [
        "idade = int(input('Digite sua idade: '))\n",
        "if idade <= 10:\n",
        "  print('Para pessoas menores ou iguais a 10 anos de idade não há taxa a ser cobradas')\n",
        "elif idade > 10 and idade < 65:\n",
        "  print('Para pessoas maiores que 10 anos de idade ou menores de 65 anos, a taxa a ser cobrada é integral')\n",
        "else:\n",
        "  print('Para pessoas com idade igual ou superior a 65 anos será cobrada apenas o valor parcial da taxa')"
      ],
      "metadata": {
        "colab": {
          "base_uri": "https://localhost:8080/"
        },
        "id": "IE9dIymf6G6J",
        "outputId": "85405007-28c1-43bf-e69d-66322f0c51b6"
      },
      "execution_count": null,
      "outputs": [
        {
          "output_type": "stream",
          "name": "stdout",
          "text": [
            "Digite sua idade: 65\n",
            "Para pessoas com idade igual ou superior a 65 anos será cobrada apenas o valor parcial da taxa\n"
          ]
        }
      ]
    },
    {
      "cell_type": "code",
      "source": [
        "distância = float(input('Qual a distância a ser percorrida, em kilômetros: '))\n",
        "if distância <= 200:\n",
        "  preço = str(distância*0.5)\n",
        "  print('O valor a ser cobrado será de:' + ' '+ preço + ' ' +' reais')\n",
        "else: \n",
        "  preço = str(distância*0.45)\n",
        "  print('O valor a ser cobrado será de:' + ' '+ preço + ' ' +' reais')"
      ],
      "metadata": {
        "colab": {
          "base_uri": "https://localhost:8080/"
        },
        "id": "Y-SkFJR162RP",
        "outputId": "a9192908-907a-4e3d-b3bc-85731fb2a0fc"
      },
      "execution_count": null,
      "outputs": [
        {
          "output_type": "stream",
          "name": "stdout",
          "text": [
            "Qual a distância a ser percorrida, em kilômetros: 400\n",
            "O valor a ser cobrado será de: 180.0  reais\n"
          ]
        }
      ]
    },
    {
      "cell_type": "code",
      "source": [
        "a = float(input('Digite um numero qualquer: '))\n",
        "b = float(input('Digite um numero qualquer: '))\n",
        "operação = input('Digite a operação básica necessária:  (soma, subtração, multiplicação, divisão) ')\n",
        "if operação == 'soma':\n",
        "  resultado = a + b\n",
        "elif operação == 'multiplicação':\n",
        "  resultado = a * b\n",
        "elif operação == 'divisão':\n",
        "  resultado = a / b\n",
        "elif operação == 'subtração':\n",
        "  resultado = a - b\n",
        "\n",
        "print(f'O valor do seu resultado é:' + ' '+ str(resultado))"
      ],
      "metadata": {
        "colab": {
          "base_uri": "https://localhost:8080/"
        },
        "id": "ycUMdzEykEx_",
        "outputId": "fb6e36b4-4a09-47d0-aa97-f31d20528259"
      },
      "execution_count": 17,
      "outputs": [
        {
          "output_type": "stream",
          "name": "stdout",
          "text": [
            "Digite um numero qualquer: 8\n",
            "Digite um numero qualquer: 2\n",
            "Digite a operação básica necessária:  (soma, subtração, multiplicação, divisão) divisão\n",
            "O valor do seu resultado é: 4.0\n"
          ]
        }
      ]
    },
    {
      "cell_type": "code",
      "source": [
        "valor = float(input(\"Digite o valor da casa: \"))\n",
        "salário = float(input(\"Digite o salário: \"))\n",
        "anos = int(input(\"Quantos anos para pagar: \"))\n",
        "meses = anos * 12\n",
        "prestacao = valor / meses\n",
        "if prestacao > salário * 0.3:\n",
        "    print(\"Infelizmente você não pode obter o empréstimo\")\n",
        "else:\n",
        "    print(f\"Valor da prestação: R$ {prestacao:7.2f} Empréstimo OK\")"
      ],
      "metadata": {
        "colab": {
          "base_uri": "https://localhost:8080/"
        },
        "id": "G8vacEsH2fiX",
        "outputId": "b657dee6-4c3c-4716-a7c7-e85b7039aa1a"
      },
      "execution_count": 24,
      "outputs": [
        {
          "output_type": "stream",
          "name": "stdout",
          "text": [
            "Digite o valor da casa: 100000\n",
            "Digite o salário: 10000\n",
            "Quantos anos para pagar: 5\n",
            "Valor da prestação: R$ 1666.67 Empréstimo OK\n"
          ]
        }
      ]
    },
    {
      "cell_type": "code",
      "source": [
        "consumo = float(input('Digite a quantidade de Kw consumida: '))\n",
        "instalação = input('Qual o tipo de instalação: R, I ou C')\n",
        "if instalação == \"R\" and consumo <= 500:\n",
        "  preço = consumo * 0.40\n",
        "  print(f'O valor a ser pago é de:' + ' '+ str(preço))\n",
        "elif instalação == \"R\" and consumo > 500:\n",
        "  preço = consumo * 0.65\n",
        "  print(f'O valor a ser pago é de:' + ' '+ str(preço))\n",
        "elif instalação == 'I' and consumo <=5000:\n",
        "  preço = consumo * 0.55\n",
        "  print(f'O valor a ser pago é de:' + ' '+ str(preço))\n",
        "elif instalação == \"I\" and consumo > 5000:\n",
        "  preço = consumo * 0.60\n",
        "  print(f'O valor a ser pago é de:' + ' '+ str(preço))\n",
        "elif instalação == \"C\" and consumo >= 1000:\n",
        "  preço = consumo * 0.55\n",
        "  print(f'O valor a ser pago é de:' + ' '+ str(preço))\n",
        "elif instalação == \"C\" and consumo < 1000:\n",
        "  preço = consumo * 0.60\n",
        "  print(f'O valor a ser pago é de:' + ' '+ str(preço))"
      ],
      "metadata": {
        "colab": {
          "base_uri": "https://localhost:8080/"
        },
        "id": "qxx7lLOG498a",
        "outputId": "344baf30-5682-4a54-c5c9-774f35c16dc7"
      },
      "execution_count": 32,
      "outputs": [
        {
          "output_type": "stream",
          "name": "stdout",
          "text": [
            "Digite a quantidade de Kw consumida: 1252\n",
            "Qual o tipo de instalação: R, I ou CC\n",
            "O valor a ser pago é de: 688.6\n"
          ]
        }
      ]
    }
  ]
}