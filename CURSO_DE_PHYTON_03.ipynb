{
  "nbformat": 4,
  "nbformat_minor": 0,
  "metadata": {
    "colab": {
      "name": "CURSO DE PHYTON 03",
      "provenance": [],
      "authorship_tag": "ABX9TyPAmbIHt+f+BWIFCljt7L7p",
      "include_colab_link": true
    },
    "kernelspec": {
      "name": "python3",
      "display_name": "Python 3"
    },
    "language_info": {
      "name": "python"
    }
  },
  "cells": [
    {
      "cell_type": "markdown",
      "metadata": {
        "id": "view-in-github",
        "colab_type": "text"
      },
      "source": [
        "<a href=\"https://colab.research.google.com/github/marcosmorris/pythonteoria/blob/main/CURSO_DE_PHYTON_03.ipynb\" target=\"_parent\"><img src=\"https://colab.research.google.com/assets/colab-badge.svg\" alt=\"Open In Colab\"/></a>"
      ]
    },
    {
      "cell_type": "code",
      "execution_count": null,
      "metadata": {
        "colab": {
          "base_uri": "https://localhost:8080/"
        },
        "id": "lINMm9iIV9n0",
        "outputId": "4496b975-a58f-402a-92ab-07a0d6dfd84e"
      },
      "outputs": [
        {
          "output_type": "stream",
          "name": "stdout",
          "text": [
            "Marcos\n",
            "Marcos Leandro Matias Morris\n"
          ]
        }
      ],
      "source": [
        "primeiro_nome = 'Marcos'\n",
        "print(primeiro_nome)\n",
        "nome_completo = 'Marcos Leandro Matias Morris'\n",
        "print(nome_completo)"
      ]
    },
    {
      "cell_type": "markdown",
      "source": [
        "STRINGS"
      ],
      "metadata": {
        "id": "afYSlSOzW76P"
      }
    },
    {
      "cell_type": "code",
      "source": [
        "print(f'Olá {nome_completo}, você gostaria de aprender phyton hoje?')"
      ],
      "metadata": {
        "colab": {
          "base_uri": "https://localhost:8080/"
        },
        "id": "cT9lY4ruW9w-",
        "outputId": "cc970c1b-e4f9-4595-b563-b824df74c6e3"
      },
      "execution_count": null,
      "outputs": [
        {
          "output_type": "stream",
          "name": "stdout",
          "text": [
            "Olá Marcos Leandro Matias Morris, você gostaria de aprender phyton hoje?\n"
          ]
        }
      ]
    },
    {
      "cell_type": "code",
      "source": [
        "nome = 'barbara correa dos santos'\n",
        "print(nome.title())\n",
        "print(nome.upper())\n",
        "print(nome.lower())\n"
      ],
      "metadata": {
        "colab": {
          "base_uri": "https://localhost:8080/"
        },
        "id": "3hxN7cmQZaq5",
        "outputId": "98e7cff0-a5a0-4ed3-fccd-6f31cde62f7a"
      },
      "execution_count": null,
      "outputs": [
        {
          "output_type": "stream",
          "name": "stdout",
          "text": [
            "Barbara Correa Dos Santos\n",
            "BARBARA CORREA DOS SANTOS\n",
            "barbara correa dos santos\n"
          ]
        }
      ]
    },
    {
      "cell_type": "code",
      "source": [
        "pensador = 'Albert Einstein'\n",
        "pensamento = 'Duas coisas nesse mundo são infinitas: o universo e a burrice humana. Mas, em relação ao universto, tenho minhas dúvidas'\n",
        "final = pensador + ' ' + 'disse uma vez:' +' '+ pensamento\n",
        "print(final)\n",
        "print(f'Uma vez o grande pensador {pensador} disse: {pensamento}' )"
      ],
      "metadata": {
        "colab": {
          "base_uri": "https://localhost:8080/"
        },
        "id": "Th62egOnZsdJ",
        "outputId": "14ce7d0d-a577-44e5-9290-2f23fff89d3f"
      },
      "execution_count": null,
      "outputs": [
        {
          "output_type": "stream",
          "name": "stdout",
          "text": [
            "Albert Einstein disse uma vez: Duas coisas nesse mundo são infinitas: o universo e a burrice humana. Mas, em relação ao universto, tenho minhas dúvidas\n",
            "Uma vez o grande pensador Albert Einstein disse: Duas coisas nesse mundo são infinitas: o universo e a burrice humana. Mas, em relação ao universto, tenho minhas dúvidas\n"
          ]
        }
      ]
    },
    {
      "cell_type": "code",
      "source": [
        "primeiro_nome = 'Marcos'\n",
        "sobrenome = 'Morris'\n",
        "idade = '45'\n",
        "print('primeiro_nome:\\nsobrenome:\\nidade')\n",
        "print(final)"
      ],
      "metadata": {
        "colab": {
          "base_uri": "https://localhost:8080/"
        },
        "id": "oU16bvhbakIJ",
        "outputId": "dd2b5828-c7a4-466d-a25c-f11bd6db12fd"
      },
      "execution_count": null,
      "outputs": [
        {
          "output_type": "stream",
          "name": "stdout",
          "text": [
            "primeiro_nome:\n",
            "sobrenome:\n",
            "idade\n",
            "Albert Einstein disse uma vez: Duas coisas nesse mundo são infinitas: o universo e a burrice humana. Mas, em relação ao universto, tenho minhas dúvidas\n"
          ]
        }
      ]
    },
    {
      "cell_type": "code",
      "source": [
        "cidade1 = 'Curitiba '\n",
        "cidade2 = ' Brasilia'\n",
        "cidade1 == cidade2\n",
        "cidade1.rstrip()\n",
        "cidade2.lstrip()\n"
      ],
      "metadata": {
        "colab": {
          "base_uri": "https://localhost:8080/",
          "height": 35
        },
        "id": "yJEmHpK3bI4A",
        "outputId": "42ec61ee-2acd-4d84-e227-a2e5e711a93c"
      },
      "execution_count": null,
      "outputs": [
        {
          "output_type": "execute_result",
          "data": {
            "text/plain": [
              "'Brasilia'"
            ],
            "application/vnd.google.colaboratory.intrinsic+json": {
              "type": "string"
            }
          },
          "metadata": {},
          "execution_count": 20
        }
      ]
    },
    {
      "cell_type": "markdown",
      "source": [
        "F-STRING"
      ],
      "metadata": {
        "id": "Vz0USfurbnQW"
      }
    },
    {
      "cell_type": "code",
      "source": [
        "usuário = 'Marcos Morris'\n",
        "idade = '45'\n",
        "cidade = 'Portland'\n",
        "País = 'EUA'\n",
        "print(f'O senhor chamado {usuário} que tem {idade} anos de idade, é residente de {cidade} nos {País}')"
      ],
      "metadata": {
        "colab": {
          "base_uri": "https://localhost:8080/"
        },
        "id": "BQS3qLJjbpOy",
        "outputId": "7815f6d0-c562-4616-ed0e-22accd475b75"
      },
      "execution_count": null,
      "outputs": [
        {
          "output_type": "stream",
          "name": "stdout",
          "text": [
            "O senhor chamado Marcos Morris que tem 45 anos de idade, é residente de Portland nos EUA\n"
          ]
        }
      ]
    },
    {
      "cell_type": "markdown",
      "source": [
        "NUMEROS"
      ],
      "metadata": {
        "id": "B8NarNuqcHHv"
      }
    },
    {
      "cell_type": "code",
      "source": [
        "5+4\n",
        "3**2\n",
        "3*3\n",
        "27/3\n",
        "28//3\n",
        "18-9\n",
        "número_ideal = '15'\n",
        "print(f'O múmero da sorte é o: {número_ideal}')"
      ],
      "metadata": {
        "colab": {
          "base_uri": "https://localhost:8080/"
        },
        "id": "m2-OJOSicWqP",
        "outputId": "f1802ea9-73ef-49be-ebac-f940feab2468"
      },
      "execution_count": null,
      "outputs": [
        {
          "output_type": "stream",
          "name": "stdout",
          "text": [
            "O múmero da sorte é o: 15\n"
          ]
        }
      ]
    },
    {
      "cell_type": "markdown",
      "source": [
        "LISTAS"
      ],
      "metadata": {
        "id": "nXRhL2p9fHT1"
      }
    },
    {
      "cell_type": "code",
      "source": [
        "carros = ['BMW', 'ferrari', 'mercedez', 'porshe', 'honda']\n",
        "print(carros)\n",
        "print(carros[3])\n",
        "print(f'O {usuário} gosta de' + ' ' + carros[0] + ' '+ 'e' + ' '+ carros[3])\n",
        "carros.append ('volvo')\n",
        "print(carros)\n",
        "carros.insert(5,'fusca')\n",
        "print(carros)\n",
        "sorted(carros)\n",
        "sorted(carros,reverse = True)\n",
        "len(carros)\n",
        "amigos = ['Daniel Souza', 'Claudio', 'Krieger', 'Daniel Fagundes', 'Barbara', 'Regis']\n",
        "len(amigos)\n",
        "print(amigos[-1])\n",
        "sorted(amigos)\n",
        "sorted(amigos, reverse = True)\n",
        "amigos.pop()\n",
        "print(amigos)\n",
        "amigos.reverse()\n",
        "del carros[2]\n",
        "print(carros)\n",
        "carros.pop()\n",
        "print(carros)"
      ],
      "metadata": {
        "colab": {
          "base_uri": "https://localhost:8080/"
        },
        "id": "ZVnTq3_wfOY-",
        "outputId": "bf3e2d1b-dcf6-4ee8-a08c-17924f1480dd"
      },
      "execution_count": null,
      "outputs": [
        {
          "output_type": "stream",
          "name": "stdout",
          "text": [
            "['BMW', 'ferrari', 'mercedez', 'porshe', 'honda']\n",
            "porshe\n",
            "O Marcos Morris gosta de BMW e porshe\n",
            "['BMW', 'ferrari', 'mercedez', 'porshe', 'honda', 'volvo']\n",
            "['BMW', 'ferrari', 'mercedez', 'porshe', 'honda', 'fusca', 'volvo']\n",
            "Regis\n",
            "['Daniel Souza', 'Claudio', 'Krieger', 'Daniel Fagundes', 'Barbara']\n",
            "['BMW', 'ferrari', 'porshe', 'honda', 'fusca', 'volvo']\n",
            "['BMW', 'ferrari', 'porshe', 'honda', 'fusca']\n"
          ]
        }
      ]
    },
    {
      "cell_type": "code",
      "source": [
        "convidados = ['Daniel', 'Krieger', 'JJ', 'Régis', 'Carlos', 'Larissa', 'Iracema', 'Claudio', 'Suely']\n",
        "print(convidados)\n",
        "print(f'Caro amigo' + ' '+ convidados[1] +' ' + 'gostaríamos de ter a honra da sua presença em nosso casamento')\n",
        "print(f'Caro(a) amigo(a)' + ' '+ convidados[3] + ' '+ 'gostaríamos muito de ter a hnra de sua presença em nosso casamento')\n",
        "print(f'Por motivos de saúde os amigos' + ' ' + convidados[0] + ' ' + convidados[1] + ' '+ convidados[2] + ' '+ 'não poderão mais comparecer ao casamento')\n",
        "del convidados[0]\n",
        "del convidados[1]\n",
        "del convidados[2]\n",
        "print(convidados)\n",
        "convidados.append('Raissa')\n",
        "convidados.append('patricia')\n",
        "print(convidados)\n",
        "convidados.insert(0, 'Iracema')\n",
        "print(convidados)\n",
        "convidados.insert(4, 'Alexandra')\n",
        "print(convidados)\n",
        "convidados.pop()\n",
        "convidados.pop()\n",
        "print(convidados)\n",
        "convidados.pop()\n",
        "print(convidados)\n",
        "print(f'Os(as) convidados(as) para o casamento são:' + convidados[0] +' '+ 'e' +convidados[1] +' '+ 'e' +convidados[2] + ' '+ 'e' + convidados[3])\n",
        "print(convidados)\n",
        "sorted(convidados)\n",
        "convidados.reverse()\n",
        "print(convidados)\n",
        "print(convidados)\n",
        "len(convidados)\n",
        "print(carros)\n",
        "sorted(carros)\n",
        "print(sorted(carros))\n",
        "sorted (carros, reverse = True)\n",
        "carros.reverse()"
      ],
      "metadata": {
        "colab": {
          "base_uri": "https://localhost:8080/"
        },
        "id": "0LAS9judjPTo",
        "outputId": "e3a6c7ad-bbe1-4293-8b25-e6dd50f69ce4"
      },
      "execution_count": null,
      "outputs": [
        {
          "output_type": "stream",
          "name": "stdout",
          "text": [
            "['Daniel', 'Krieger', 'JJ', 'Régis', 'Carlos', 'Larissa', 'Iracema', 'Claudio', 'Suely']\n",
            "Caro amigo Krieger gostaríamos de ter a honra da sua presença em nosso casamento\n",
            "Caro(a) amigo(a) Régis gostaríamos muito de ter a hnra de sua presença em nosso casamento\n",
            "Por motivos de saúde os amigos Daniel Krieger JJ não poderão mais comparecer ao casamento\n",
            "['Krieger', 'Régis', 'Larissa', 'Iracema', 'Claudio', 'Suely']\n",
            "['Krieger', 'Régis', 'Larissa', 'Iracema', 'Claudio', 'Suely', 'Raissa', 'patricia']\n",
            "['Iracema', 'Krieger', 'Régis', 'Larissa', 'Iracema', 'Claudio', 'Suely', 'Raissa', 'patricia']\n",
            "['Iracema', 'Krieger', 'Régis', 'Larissa', 'Alexandra', 'Iracema', 'Claudio', 'Suely', 'Raissa', 'patricia']\n",
            "['Iracema', 'Krieger', 'Régis', 'Larissa', 'Alexandra', 'Iracema', 'Claudio', 'Suely']\n",
            "['Iracema', 'Krieger', 'Régis', 'Larissa', 'Alexandra', 'Iracema', 'Claudio']\n",
            "Os(as) convidados(as) para o casamento são:Iracema eKrieger eRégis eLarissa\n",
            "['Iracema', 'Krieger', 'Régis', 'Larissa', 'Alexandra', 'Iracema', 'Claudio']\n",
            "['Claudio', 'Iracema', 'Alexandra', 'Larissa', 'Régis', 'Krieger', 'Iracema']\n",
            "['Claudio', 'Iracema', 'Alexandra', 'Larissa', 'Régis', 'Krieger', 'Iracema']\n",
            "['BMW', 'ferrari', 'porshe', 'honda', 'fusca']\n",
            "['BMW', 'ferrari', 'fusca', 'honda', 'porshe']\n"
          ]
        }
      ]
    },
    {
      "cell_type": "markdown",
      "source": [
        "PERCORRENDO UMA LISTA"
      ],
      "metadata": {
        "id": "fgo5t_3UpP2h"
      }
    },
    {
      "cell_type": "code",
      "source": [
        "paises = ['Estados Unidos', 'Canadá', 'Bélgica', 'Holanda', 'Escócia']\n",
        "paises\n",
        "for paise in paises:\n",
        "  print('O meu País favorito é:' +' '+ paise + '.')\n",
        "  print(paise.upper())\n",
        "print('todos estes países são maravilhosos')\n",
        "brands = ['Nike', 'Porsche', 'Tommy']\n",
        "print(brands)\n",
        "for brand in brands:\n",
        "  print('A minha marca favorita é:' +' ' + brand + '.')\n",
        "  print(brand.upper())\n",
        "print('Eu gosto de todas estas três marcas')\n",
        "esportes = ['Basquete', 'futebol americano', 'futebol']\n",
        "for esporte in esportes:\n",
        "  print('Eu gosto muito de jogar o seguinte esporte:' + ' '+ esporte + '.')\n",
        "  print(esporte.upper())\n",
        "print('Estes são meus esportes favoritos')"
      ],
      "metadata": {
        "colab": {
          "base_uri": "https://localhost:8080/"
        },
        "id": "XIs0S1i0pR-6",
        "outputId": "60a672bd-3128-4081-d232-ea58347758d7"
      },
      "execution_count": null,
      "outputs": [
        {
          "output_type": "stream",
          "name": "stdout",
          "text": [
            "O meu País favorito é: Estados Unidos.\n",
            "ESTADOS UNIDOS\n",
            "O meu País favorito é: Canadá.\n",
            "CANADÁ\n",
            "O meu País favorito é: Bélgica.\n",
            "BÉLGICA\n",
            "O meu País favorito é: Holanda.\n",
            "HOLANDA\n",
            "O meu País favorito é: Escócia.\n",
            "ESCÓCIA\n",
            "todos estes países são maravilhosos\n",
            "['Nike', 'Porsche', 'Tommy']\n",
            "A minha marca favorita é: Nike.\n",
            "NIKE\n",
            "A minha marca favorita é: Porsche.\n",
            "PORSCHE\n",
            "A minha marca favorita é: Tommy.\n",
            "TOMMY\n",
            "Eu gosto de todas estas três marcas\n",
            "Eu gosto muito de jogar o seguinte esporte: Basquete.\n",
            "BASQUETE\n",
            "Eu gosto muito de jogar o seguinte esporte: futebol americano.\n",
            "FUTEBOL AMERICANO\n",
            "Eu gosto muito de jogar o seguinte esporte: futebol.\n",
            "FUTEBOL\n",
            "Estes são meus esportes favoritos\n"
          ]
        }
      ]
    },
    {
      "cell_type": "markdown",
      "source": [
        "LISTAS COM NUMEROS"
      ],
      "metadata": {
        "id": "e6Xcj0iCsQXl"
      }
    },
    {
      "cell_type": "code",
      "source": [
        "lista = list(range(1,6))\n",
        "print(lista)\n",
        "lista2 = list(range(1,1000))\n",
        "print(lista2)\n",
        "lista3 = list(range(2,21,2))\n",
        "print(lista3)"
      ],
      "metadata": {
        "colab": {
          "base_uri": "https://localhost:8080/"
        },
        "id": "0eRId4jksRwQ",
        "outputId": "d063c73f-7c5d-485f-df5c-48afe2f5c528"
      },
      "execution_count": null,
      "outputs": [
        {
          "output_type": "stream",
          "name": "stdout",
          "text": [
            "[1, 2, 3, 4, 5]\n",
            "[1, 2, 3, 4, 5, 6, 7, 8, 9, 10, 11, 12, 13, 14, 15, 16, 17, 18, 19, 20, 21, 22, 23, 24, 25, 26, 27, 28, 29, 30, 31, 32, 33, 34, 35, 36, 37, 38, 39, 40, 41, 42, 43, 44, 45, 46, 47, 48, 49, 50, 51, 52, 53, 54, 55, 56, 57, 58, 59, 60, 61, 62, 63, 64, 65, 66, 67, 68, 69, 70, 71, 72, 73, 74, 75, 76, 77, 78, 79, 80, 81, 82, 83, 84, 85, 86, 87, 88, 89, 90, 91, 92, 93, 94, 95, 96, 97, 98, 99, 100, 101, 102, 103, 104, 105, 106, 107, 108, 109, 110, 111, 112, 113, 114, 115, 116, 117, 118, 119, 120, 121, 122, 123, 124, 125, 126, 127, 128, 129, 130, 131, 132, 133, 134, 135, 136, 137, 138, 139, 140, 141, 142, 143, 144, 145, 146, 147, 148, 149, 150, 151, 152, 153, 154, 155, 156, 157, 158, 159, 160, 161, 162, 163, 164, 165, 166, 167, 168, 169, 170, 171, 172, 173, 174, 175, 176, 177, 178, 179, 180, 181, 182, 183, 184, 185, 186, 187, 188, 189, 190, 191, 192, 193, 194, 195, 196, 197, 198, 199, 200, 201, 202, 203, 204, 205, 206, 207, 208, 209, 210, 211, 212, 213, 214, 215, 216, 217, 218, 219, 220, 221, 222, 223, 224, 225, 226, 227, 228, 229, 230, 231, 232, 233, 234, 235, 236, 237, 238, 239, 240, 241, 242, 243, 244, 245, 246, 247, 248, 249, 250, 251, 252, 253, 254, 255, 256, 257, 258, 259, 260, 261, 262, 263, 264, 265, 266, 267, 268, 269, 270, 271, 272, 273, 274, 275, 276, 277, 278, 279, 280, 281, 282, 283, 284, 285, 286, 287, 288, 289, 290, 291, 292, 293, 294, 295, 296, 297, 298, 299, 300, 301, 302, 303, 304, 305, 306, 307, 308, 309, 310, 311, 312, 313, 314, 315, 316, 317, 318, 319, 320, 321, 322, 323, 324, 325, 326, 327, 328, 329, 330, 331, 332, 333, 334, 335, 336, 337, 338, 339, 340, 341, 342, 343, 344, 345, 346, 347, 348, 349, 350, 351, 352, 353, 354, 355, 356, 357, 358, 359, 360, 361, 362, 363, 364, 365, 366, 367, 368, 369, 370, 371, 372, 373, 374, 375, 376, 377, 378, 379, 380, 381, 382, 383, 384, 385, 386, 387, 388, 389, 390, 391, 392, 393, 394, 395, 396, 397, 398, 399, 400, 401, 402, 403, 404, 405, 406, 407, 408, 409, 410, 411, 412, 413, 414, 415, 416, 417, 418, 419, 420, 421, 422, 423, 424, 425, 426, 427, 428, 429, 430, 431, 432, 433, 434, 435, 436, 437, 438, 439, 440, 441, 442, 443, 444, 445, 446, 447, 448, 449, 450, 451, 452, 453, 454, 455, 456, 457, 458, 459, 460, 461, 462, 463, 464, 465, 466, 467, 468, 469, 470, 471, 472, 473, 474, 475, 476, 477, 478, 479, 480, 481, 482, 483, 484, 485, 486, 487, 488, 489, 490, 491, 492, 493, 494, 495, 496, 497, 498, 499, 500, 501, 502, 503, 504, 505, 506, 507, 508, 509, 510, 511, 512, 513, 514, 515, 516, 517, 518, 519, 520, 521, 522, 523, 524, 525, 526, 527, 528, 529, 530, 531, 532, 533, 534, 535, 536, 537, 538, 539, 540, 541, 542, 543, 544, 545, 546, 547, 548, 549, 550, 551, 552, 553, 554, 555, 556, 557, 558, 559, 560, 561, 562, 563, 564, 565, 566, 567, 568, 569, 570, 571, 572, 573, 574, 575, 576, 577, 578, 579, 580, 581, 582, 583, 584, 585, 586, 587, 588, 589, 590, 591, 592, 593, 594, 595, 596, 597, 598, 599, 600, 601, 602, 603, 604, 605, 606, 607, 608, 609, 610, 611, 612, 613, 614, 615, 616, 617, 618, 619, 620, 621, 622, 623, 624, 625, 626, 627, 628, 629, 630, 631, 632, 633, 634, 635, 636, 637, 638, 639, 640, 641, 642, 643, 644, 645, 646, 647, 648, 649, 650, 651, 652, 653, 654, 655, 656, 657, 658, 659, 660, 661, 662, 663, 664, 665, 666, 667, 668, 669, 670, 671, 672, 673, 674, 675, 676, 677, 678, 679, 680, 681, 682, 683, 684, 685, 686, 687, 688, 689, 690, 691, 692, 693, 694, 695, 696, 697, 698, 699, 700, 701, 702, 703, 704, 705, 706, 707, 708, 709, 710, 711, 712, 713, 714, 715, 716, 717, 718, 719, 720, 721, 722, 723, 724, 725, 726, 727, 728, 729, 730, 731, 732, 733, 734, 735, 736, 737, 738, 739, 740, 741, 742, 743, 744, 745, 746, 747, 748, 749, 750, 751, 752, 753, 754, 755, 756, 757, 758, 759, 760, 761, 762, 763, 764, 765, 766, 767, 768, 769, 770, 771, 772, 773, 774, 775, 776, 777, 778, 779, 780, 781, 782, 783, 784, 785, 786, 787, 788, 789, 790, 791, 792, 793, 794, 795, 796, 797, 798, 799, 800, 801, 802, 803, 804, 805, 806, 807, 808, 809, 810, 811, 812, 813, 814, 815, 816, 817, 818, 819, 820, 821, 822, 823, 824, 825, 826, 827, 828, 829, 830, 831, 832, 833, 834, 835, 836, 837, 838, 839, 840, 841, 842, 843, 844, 845, 846, 847, 848, 849, 850, 851, 852, 853, 854, 855, 856, 857, 858, 859, 860, 861, 862, 863, 864, 865, 866, 867, 868, 869, 870, 871, 872, 873, 874, 875, 876, 877, 878, 879, 880, 881, 882, 883, 884, 885, 886, 887, 888, 889, 890, 891, 892, 893, 894, 895, 896, 897, 898, 899, 900, 901, 902, 903, 904, 905, 906, 907, 908, 909, 910, 911, 912, 913, 914, 915, 916, 917, 918, 919, 920, 921, 922, 923, 924, 925, 926, 927, 928, 929, 930, 931, 932, 933, 934, 935, 936, 937, 938, 939, 940, 941, 942, 943, 944, 945, 946, 947, 948, 949, 950, 951, 952, 953, 954, 955, 956, 957, 958, 959, 960, 961, 962, 963, 964, 965, 966, 967, 968, 969, 970, 971, 972, 973, 974, 975, 976, 977, 978, 979, 980, 981, 982, 983, 984, 985, 986, 987, 988, 989, 990, 991, 992, 993, 994, 995, 996, 997, 998, 999]\n",
            "[2, 4, 6, 8, 10, 12, 14, 16, 18, 20]\n"
          ]
        }
      ]
    },
    {
      "cell_type": "code",
      "source": [
        "nums_ao_cubo = []\n",
        "for num in range(1,11):\n",
        "  num_cubo = num ** 3\n",
        "  nums_ao_cubo.append(num_cubo)\n",
        "print(nums_ao_cubo)\n",
        "\n",
        "nums_ao_quadrado = []\n",
        "for num in range(2,22):\n",
        "  num_quadrado = num ** 4\n",
        "  nums_ao_quadrado.append(num_quadrado)\n",
        "print(nums_ao_quadrado)\n",
        "min(nums_ao_quadrado)\n",
        "max(nums_ao_quadrado)\n",
        "sum(nums_ao_quadrado)\n",
        "\n"
      ],
      "metadata": {
        "colab": {
          "base_uri": "https://localhost:8080/"
        },
        "id": "WnIv0YYKtrVr",
        "outputId": "163a0e38-3820-4b33-95d7-ab469fa1ab65"
      },
      "execution_count": null,
      "outputs": [
        {
          "output_type": "stream",
          "name": "stdout",
          "text": [
            "[1, 8, 27, 64, 125, 216, 343, 512, 729, 1000]\n",
            "[16, 81, 256, 625, 1296, 2401, 4096, 6561, 10000, 14641, 20736, 28561, 38416, 50625, 65536, 83521, 104976, 130321, 160000, 194481]\n"
          ]
        },
        {
          "output_type": "execute_result",
          "data": {
            "text/plain": [
              "917146"
            ]
          },
          "metadata": {},
          "execution_count": 137
        }
      ]
    },
    {
      "cell_type": "code",
      "source": [
        "nums_a_quarta = [num ** 4 for num in range(1,22)]\n",
        "print(nums_a_quarta)\n",
        "nums_a_quinta = [num ** 5 for num in range(1,5)]\n",
        "print(nums_a_quinta)"
      ],
      "metadata": {
        "colab": {
          "base_uri": "https://localhost:8080/"
        },
        "id": "XTOZXRFOvtBu",
        "outputId": "f2a43a5c-44b5-4c7d-9532-bd50affa891c"
      },
      "execution_count": null,
      "outputs": [
        {
          "output_type": "stream",
          "name": "stdout",
          "text": [
            "[1, 16, 81, 256, 625, 1296, 2401, 4096, 6561, 10000, 14641, 20736, 28561, 38416, 50625, 65536, 83521, 104976, 130321, 160000, 194481]\n",
            "[1, 32, 243, 1024]\n"
          ]
        }
      ]
    },
    {
      "cell_type": "code",
      "source": [
        "lista = list (range(1,51))\n",
        "print(lista)\n",
        "lista1 = list(range(1,1001))\n",
        "print(lista1)\n",
        "min(lista1)\n",
        "max(lista1)\n",
        "sum(lista1)\n",
        "lista2 = list(range(2,41,2))\n",
        "print(lista2)\n",
        "lista3 = [num ** 2 for num in range(1,11)]\n",
        "print(lista3)\n",
        "lista4 = [num ** 5 for num in range(1,5)]\n",
        "print(lista4)"
      ],
      "metadata": {
        "colab": {
          "base_uri": "https://localhost:8080/"
        },
        "id": "gYya8mf6weB4",
        "outputId": "7421c82f-7ba2-4689-95aa-db770b4bd7bf"
      },
      "execution_count": null,
      "outputs": [
        {
          "output_type": "stream",
          "name": "stdout",
          "text": [
            "[1, 2, 3, 4, 5, 6, 7, 8, 9, 10, 11, 12, 13, 14, 15, 16, 17, 18, 19, 20, 21, 22, 23, 24, 25, 26, 27, 28, 29, 30, 31, 32, 33, 34, 35, 36, 37, 38, 39, 40, 41, 42, 43, 44, 45, 46, 47, 48, 49, 50]\n",
            "[1, 2, 3, 4, 5, 6, 7, 8, 9, 10, 11, 12, 13, 14, 15, 16, 17, 18, 19, 20, 21, 22, 23, 24, 25, 26, 27, 28, 29, 30, 31, 32, 33, 34, 35, 36, 37, 38, 39, 40, 41, 42, 43, 44, 45, 46, 47, 48, 49, 50, 51, 52, 53, 54, 55, 56, 57, 58, 59, 60, 61, 62, 63, 64, 65, 66, 67, 68, 69, 70, 71, 72, 73, 74, 75, 76, 77, 78, 79, 80, 81, 82, 83, 84, 85, 86, 87, 88, 89, 90, 91, 92, 93, 94, 95, 96, 97, 98, 99, 100, 101, 102, 103, 104, 105, 106, 107, 108, 109, 110, 111, 112, 113, 114, 115, 116, 117, 118, 119, 120, 121, 122, 123, 124, 125, 126, 127, 128, 129, 130, 131, 132, 133, 134, 135, 136, 137, 138, 139, 140, 141, 142, 143, 144, 145, 146, 147, 148, 149, 150, 151, 152, 153, 154, 155, 156, 157, 158, 159, 160, 161, 162, 163, 164, 165, 166, 167, 168, 169, 170, 171, 172, 173, 174, 175, 176, 177, 178, 179, 180, 181, 182, 183, 184, 185, 186, 187, 188, 189, 190, 191, 192, 193, 194, 195, 196, 197, 198, 199, 200, 201, 202, 203, 204, 205, 206, 207, 208, 209, 210, 211, 212, 213, 214, 215, 216, 217, 218, 219, 220, 221, 222, 223, 224, 225, 226, 227, 228, 229, 230, 231, 232, 233, 234, 235, 236, 237, 238, 239, 240, 241, 242, 243, 244, 245, 246, 247, 248, 249, 250, 251, 252, 253, 254, 255, 256, 257, 258, 259, 260, 261, 262, 263, 264, 265, 266, 267, 268, 269, 270, 271, 272, 273, 274, 275, 276, 277, 278, 279, 280, 281, 282, 283, 284, 285, 286, 287, 288, 289, 290, 291, 292, 293, 294, 295, 296, 297, 298, 299, 300, 301, 302, 303, 304, 305, 306, 307, 308, 309, 310, 311, 312, 313, 314, 315, 316, 317, 318, 319, 320, 321, 322, 323, 324, 325, 326, 327, 328, 329, 330, 331, 332, 333, 334, 335, 336, 337, 338, 339, 340, 341, 342, 343, 344, 345, 346, 347, 348, 349, 350, 351, 352, 353, 354, 355, 356, 357, 358, 359, 360, 361, 362, 363, 364, 365, 366, 367, 368, 369, 370, 371, 372, 373, 374, 375, 376, 377, 378, 379, 380, 381, 382, 383, 384, 385, 386, 387, 388, 389, 390, 391, 392, 393, 394, 395, 396, 397, 398, 399, 400, 401, 402, 403, 404, 405, 406, 407, 408, 409, 410, 411, 412, 413, 414, 415, 416, 417, 418, 419, 420, 421, 422, 423, 424, 425, 426, 427, 428, 429, 430, 431, 432, 433, 434, 435, 436, 437, 438, 439, 440, 441, 442, 443, 444, 445, 446, 447, 448, 449, 450, 451, 452, 453, 454, 455, 456, 457, 458, 459, 460, 461, 462, 463, 464, 465, 466, 467, 468, 469, 470, 471, 472, 473, 474, 475, 476, 477, 478, 479, 480, 481, 482, 483, 484, 485, 486, 487, 488, 489, 490, 491, 492, 493, 494, 495, 496, 497, 498, 499, 500, 501, 502, 503, 504, 505, 506, 507, 508, 509, 510, 511, 512, 513, 514, 515, 516, 517, 518, 519, 520, 521, 522, 523, 524, 525, 526, 527, 528, 529, 530, 531, 532, 533, 534, 535, 536, 537, 538, 539, 540, 541, 542, 543, 544, 545, 546, 547, 548, 549, 550, 551, 552, 553, 554, 555, 556, 557, 558, 559, 560, 561, 562, 563, 564, 565, 566, 567, 568, 569, 570, 571, 572, 573, 574, 575, 576, 577, 578, 579, 580, 581, 582, 583, 584, 585, 586, 587, 588, 589, 590, 591, 592, 593, 594, 595, 596, 597, 598, 599, 600, 601, 602, 603, 604, 605, 606, 607, 608, 609, 610, 611, 612, 613, 614, 615, 616, 617, 618, 619, 620, 621, 622, 623, 624, 625, 626, 627, 628, 629, 630, 631, 632, 633, 634, 635, 636, 637, 638, 639, 640, 641, 642, 643, 644, 645, 646, 647, 648, 649, 650, 651, 652, 653, 654, 655, 656, 657, 658, 659, 660, 661, 662, 663, 664, 665, 666, 667, 668, 669, 670, 671, 672, 673, 674, 675, 676, 677, 678, 679, 680, 681, 682, 683, 684, 685, 686, 687, 688, 689, 690, 691, 692, 693, 694, 695, 696, 697, 698, 699, 700, 701, 702, 703, 704, 705, 706, 707, 708, 709, 710, 711, 712, 713, 714, 715, 716, 717, 718, 719, 720, 721, 722, 723, 724, 725, 726, 727, 728, 729, 730, 731, 732, 733, 734, 735, 736, 737, 738, 739, 740, 741, 742, 743, 744, 745, 746, 747, 748, 749, 750, 751, 752, 753, 754, 755, 756, 757, 758, 759, 760, 761, 762, 763, 764, 765, 766, 767, 768, 769, 770, 771, 772, 773, 774, 775, 776, 777, 778, 779, 780, 781, 782, 783, 784, 785, 786, 787, 788, 789, 790, 791, 792, 793, 794, 795, 796, 797, 798, 799, 800, 801, 802, 803, 804, 805, 806, 807, 808, 809, 810, 811, 812, 813, 814, 815, 816, 817, 818, 819, 820, 821, 822, 823, 824, 825, 826, 827, 828, 829, 830, 831, 832, 833, 834, 835, 836, 837, 838, 839, 840, 841, 842, 843, 844, 845, 846, 847, 848, 849, 850, 851, 852, 853, 854, 855, 856, 857, 858, 859, 860, 861, 862, 863, 864, 865, 866, 867, 868, 869, 870, 871, 872, 873, 874, 875, 876, 877, 878, 879, 880, 881, 882, 883, 884, 885, 886, 887, 888, 889, 890, 891, 892, 893, 894, 895, 896, 897, 898, 899, 900, 901, 902, 903, 904, 905, 906, 907, 908, 909, 910, 911, 912, 913, 914, 915, 916, 917, 918, 919, 920, 921, 922, 923, 924, 925, 926, 927, 928, 929, 930, 931, 932, 933, 934, 935, 936, 937, 938, 939, 940, 941, 942, 943, 944, 945, 946, 947, 948, 949, 950, 951, 952, 953, 954, 955, 956, 957, 958, 959, 960, 961, 962, 963, 964, 965, 966, 967, 968, 969, 970, 971, 972, 973, 974, 975, 976, 977, 978, 979, 980, 981, 982, 983, 984, 985, 986, 987, 988, 989, 990, 991, 992, 993, 994, 995, 996, 997, 998, 999, 1000]\n",
            "[2, 4, 6, 8, 10, 12, 14, 16, 18, 20, 22, 24, 26, 28, 30, 32, 34, 36, 38, 40]\n",
            "[1, 4, 9, 16, 25, 36, 49, 64, 81, 100]\n",
            "[1, 32, 243, 1024]\n"
          ]
        }
      ]
    },
    {
      "cell_type": "markdown",
      "source": [
        "TUPLAS"
      ],
      "metadata": {
        "id": "pPi4BkvHGaLW"
      }
    },
    {
      "cell_type": "code",
      "source": [
        "paises = ('Estados Unidos', 'Canadá', 'Bélgica', 'Holanda', 'Escócia', 'Alemanha')\n",
        "print(paises)\n",
        "for paise in paises:\n",
        "  print(paise)\n",
        "paises.insert(0,'Brasil')\n",
        "print(paises)"
      ],
      "metadata": {
        "colab": {
          "base_uri": "https://localhost:8080/",
          "height": 339
        },
        "id": "mC9ESxPgGbiQ",
        "outputId": "6650a2b2-de90-498d-e27e-74a39ec0079f"
      },
      "execution_count": null,
      "outputs": [
        {
          "output_type": "stream",
          "name": "stdout",
          "text": [
            "('Estados Unidos', 'Canadá', 'Bélgica', 'Holanda', 'Escócia', 'Alemanha')\n",
            "Estados Unidos\n",
            "Canadá\n",
            "Bélgica\n",
            "Holanda\n",
            "Escócia\n",
            "Alemanha\n"
          ]
        },
        {
          "output_type": "error",
          "ename": "AttributeError",
          "evalue": "ignored",
          "traceback": [
            "\u001b[0;31m---------------------------------------------------------------------------\u001b[0m",
            "\u001b[0;31mAttributeError\u001b[0m                            Traceback (most recent call last)",
            "\u001b[0;32m<ipython-input-5-01189ebd010c>\u001b[0m in \u001b[0;36m<module>\u001b[0;34m()\u001b[0m\n\u001b[1;32m      3\u001b[0m \u001b[0;32mfor\u001b[0m \u001b[0mpaise\u001b[0m \u001b[0;32min\u001b[0m \u001b[0mpaises\u001b[0m\u001b[0;34m:\u001b[0m\u001b[0;34m\u001b[0m\u001b[0;34m\u001b[0m\u001b[0m\n\u001b[1;32m      4\u001b[0m   \u001b[0mprint\u001b[0m\u001b[0;34m(\u001b[0m\u001b[0mpaise\u001b[0m\u001b[0;34m)\u001b[0m\u001b[0;34m\u001b[0m\u001b[0;34m\u001b[0m\u001b[0m\n\u001b[0;32m----> 5\u001b[0;31m \u001b[0mpaises\u001b[0m\u001b[0;34m.\u001b[0m\u001b[0minsert\u001b[0m\u001b[0;34m(\u001b[0m\u001b[0;36m0\u001b[0m\u001b[0;34m,\u001b[0m\u001b[0;34m'Brasil'\u001b[0m\u001b[0;34m)\u001b[0m\u001b[0;34m\u001b[0m\u001b[0;34m\u001b[0m\u001b[0m\n\u001b[0m\u001b[1;32m      6\u001b[0m \u001b[0mprint\u001b[0m\u001b[0;34m(\u001b[0m\u001b[0mpaises\u001b[0m\u001b[0;34m)\u001b[0m\u001b[0;34m\u001b[0m\u001b[0;34m\u001b[0m\u001b[0m\n",
            "\u001b[0;31mAttributeError\u001b[0m: 'tuple' object has no attribute 'insert'"
          ]
        }
      ]
    },
    {
      "cell_type": "markdown",
      "source": [
        "DECLARAÇÕES IF"
      ],
      "metadata": {
        "id": "tsA5L3ZyQ3tl"
      }
    },
    {
      "cell_type": "code",
      "source": [
        "número = 40\n",
        "if número > 40:\n",
        "  print('O numero é maior que 40')\n",
        "else:\n",
        "  print('O número é menor que 40')"
      ],
      "metadata": {
        "colab": {
          "base_uri": "https://localhost:8080/"
        },
        "id": "p9vLlzMuQ5FS",
        "outputId": "2d50e1f5-b56c-4e6d-ac16-872109ff37a9"
      },
      "execution_count": null,
      "outputs": [
        {
          "output_type": "stream",
          "name": "stdout",
          "text": [
            "O número é menor que 40\n"
          ]
        }
      ]
    },
    {
      "cell_type": "code",
      "source": [
        "nota = 70\n",
        "if nota >=70:\n",
        "  print('parabéns')\n",
        "else:\n",
        "  print('Estude mais')"
      ],
      "metadata": {
        "colab": {
          "base_uri": "https://localhost:8080/"
        },
        "id": "7e9W5PguRiWt",
        "outputId": "a0849c10-adb2-4954-b372-878bb7406290"
      },
      "execution_count": null,
      "outputs": [
        {
          "output_type": "stream",
          "name": "stdout",
          "text": [
            "parabéns\n"
          ]
        }
      ]
    },
    {
      "cell_type": "code",
      "source": [
        "idade = 10\n",
        "if idade <= 10:\n",
        "  print('entrada gratuita')\n",
        "elif idade <= 12:\n",
        "  print('Taxa reduzida')\n",
        "else:\n",
        "  print('Pagamento total')"
      ],
      "metadata": {
        "colab": {
          "base_uri": "https://localhost:8080/"
        },
        "id": "7YGr0nZuR2_4",
        "outputId": "16ddd12e-d0eb-41f1-c3ff-a06cd88ef619"
      },
      "execution_count": null,
      "outputs": [
        {
          "output_type": "stream",
          "name": "stdout",
          "text": [
            "entrada gratuita\n"
          ]
        }
      ]
    },
    {
      "cell_type": "code",
      "source": [
        "comida = 'pizza'\n",
        "if comida == 'pizza':\n",
        "  print('Comida é a pizza')\n",
        "else:\n",
        "  print('comida não é pizza')"
      ],
      "metadata": {
        "colab": {
          "base_uri": "https://localhost:8080/"
        },
        "id": "wkE48kaHS2kR",
        "outputId": "e84851c8-14fe-45de-a296-cc0c49a4aae6"
      },
      "execution_count": null,
      "outputs": [
        {
          "output_type": "stream",
          "name": "stdout",
          "text": [
            "Comida é a pizza\n"
          ]
        }
      ]
    },
    {
      "cell_type": "code",
      "source": [
        "comida = 'pizza'\n",
        "if comida == 'lasanha':\n",
        "  print('a comida é lasanha')\n",
        "else:\n",
        "  print('a comida não é lasanha')"
      ],
      "metadata": {
        "colab": {
          "base_uri": "https://localhost:8080/"
        },
        "id": "E7ve07dNS2Jj",
        "outputId": "6aa02451-8b0a-4e03-9cfa-a3448fd632d8"
      },
      "execution_count": null,
      "outputs": [
        {
          "output_type": "stream",
          "name": "stdout",
          "text": [
            "a comida não é lasanha\n"
          ]
        }
      ]
    },
    {
      "cell_type": "code",
      "source": [
        "pedidos = ['refrigerante', 'pizza', 'sundae', 'hamburguer']\n",
        "if 'refrigerante' in pedidos:\n",
        "  print('O refrigerante consta no pedido do cliente')\n",
        "if 'lasanha' in pedidos:\n",
        "  print('A lasanha consta no pedido do cliente')\n",
        "if 'sundae' in pedidos:\n",
        "  print('O sundae consta no pedido do cliente')\n",
        "if 'hamburguer' in pedidos:\n",
        "  print('O hamburguer consta no pedido do cliente')\n",
        "\n",
        "print('pedido concluido')"
      ],
      "metadata": {
        "colab": {
          "base_uri": "https://localhost:8080/"
        },
        "id": "ZQJSuom1UTUT",
        "outputId": "2ef02313-3746-4fb4-8ac6-9cefd389774a"
      },
      "execution_count": null,
      "outputs": [
        {
          "output_type": "stream",
          "name": "stdout",
          "text": [
            "O refrigerante consta no pedido do cliente\n",
            "O sundae consta no pedido do cliente\n",
            "O hamburguer consta no pedido do cliente\n",
            "pedido concluido\n"
          ]
        }
      ]
    },
    {
      "cell_type": "code",
      "source": [
        "if 'pizza' == 'pizza' and 'queijo'=='queijo':\n",
        "  print('verdadeiro')\n",
        "if 'pizza' == 'pizza' or 'queijo'!= 'queijo':\n",
        "  print('falso')"
      ],
      "metadata": {
        "colab": {
          "base_uri": "https://localhost:8080/"
        },
        "id": "WezQGjl9Uz_a",
        "outputId": "76d2e585-7892-4091-bd86-8e600b7387d8"
      },
      "execution_count": null,
      "outputs": [
        {
          "output_type": "stream",
          "name": "stdout",
          "text": [
            "verdadeiro\n",
            "falso\n"
          ]
        }
      ]
    },
    {
      "cell_type": "code",
      "source": [
        "numero = 12\n",
        "if numero < 5 and numero < 8:\n",
        "  print('numero é menor que 5')\n",
        "if numero == 5 or numero > 4:\n",
        "  print('o numero é maior que 5')\n"
      ],
      "metadata": {
        "colab": {
          "base_uri": "https://localhost:8080/"
        },
        "id": "aCFwL4b2VT55",
        "outputId": "dcca1772-4182-404e-f171-ba63ec86f624"
      },
      "execution_count": null,
      "outputs": [
        {
          "output_type": "stream",
          "name": "stdout",
          "text": [
            "o numero é maior que 5\n"
          ]
        }
      ]
    },
    {
      "cell_type": "code",
      "source": [
        "pedidos = ['pizza', 'pão', 'tomate']\n",
        "for pedido in pedidos:\n",
        "  print('Colocando no pedido'+ ' ' + pedido + '.')\n",
        "\n",
        "print('seu pedido está concluido')"
      ],
      "metadata": {
        "colab": {
          "base_uri": "https://localhost:8080/"
        },
        "id": "2uV--9zwWGs8",
        "outputId": "2ce04e82-f090-4b2a-8cc8-d570af773250"
      },
      "execution_count": null,
      "outputs": [
        {
          "output_type": "stream",
          "name": "stdout",
          "text": [
            "Colocando no pedido pizza.\n",
            "Colocando no pedido pão.\n",
            "Colocando no pedido tomate.\n",
            "seu pedido está concluido\n"
          ]
        }
      ]
    },
    {
      "cell_type": "code",
      "source": [
        "pedidos = ['pizza', 'pão', 'tomate']\n",
        "for pedido in pedidos:\n",
        "  if pedido == 'tomate':\n",
        "    print('não há mais tomate')\n",
        "  else:\n",
        "    print('Colocando no pedido'+ ' ' + pedido + '.')\n",
        "\n",
        "print('seu pedido está concluido')"
      ],
      "metadata": {
        "colab": {
          "base_uri": "https://localhost:8080/"
        },
        "id": "Z2b1It9QWm_U",
        "outputId": "dd85c91e-92ce-4d85-d7a3-b755964464cf"
      },
      "execution_count": null,
      "outputs": [
        {
          "output_type": "stream",
          "name": "stdout",
          "text": [
            "Colocando no pedido pizza.\n",
            "Colocando no pedido pão.\n",
            "não há mais tomate\n",
            "seu pedido está concluido\n"
          ]
        }
      ]
    },
    {
      "cell_type": "code",
      "source": [
        "carros = ['BMW', 'porsche', 'ferrari']\n",
        "for carro in carros:\n",
        "  if carro == 'ferrari':\n",
        "    print('Não há no estoque')\n",
        "  else:\n",
        "    print('Carro no estoque')\n",
        "print('Qual o seu carro?')\n"
      ],
      "metadata": {
        "colab": {
          "base_uri": "https://localhost:8080/"
        },
        "id": "wTSWSYM5XN05",
        "outputId": "e747a661-5b99-48f1-e42e-59e1195e8a96"
      },
      "execution_count": null,
      "outputs": [
        {
          "output_type": "stream",
          "name": "stdout",
          "text": [
            "Carro no estoque\n",
            "Carro no estoque\n",
            "Não há no estoque\n",
            "Qual o seu carro?\n"
          ]
        }
      ]
    },
    {
      "cell_type": "code",
      "source": [
        "frutas = ['maça', 'abacaxi', 'perâ', 'manga', 'uva']\n",
        "for fruta in frutas:\n",
        "  if fruta == 'abacaxi'or fruta == 'manga':\n",
        "    print('Nao há mais no estoque')\n",
        "  else:\n",
        "    print('Fruta disponível setor 11')"
      ],
      "metadata": {
        "colab": {
          "base_uri": "https://localhost:8080/"
        },
        "id": "k4orTzO1Xp_r",
        "outputId": "bd1fa910-6b68-4d39-95ab-3c340d691cd9"
      },
      "execution_count": null,
      "outputs": [
        {
          "output_type": "stream",
          "name": "stdout",
          "text": [
            "Fruta disponível setor 11\n",
            "Nao há mais no estoque\n",
            "Fruta disponível setor 11\n",
            "Nao há mais no estoque\n",
            "Fruta disponível setor 11\n"
          ]
        }
      ]
    },
    {
      "cell_type": "code",
      "source": [
        "estoques = ['maça', 'uva', 'tomate', 'perâ', 'pão', 'leite', 'nescau', 'bala']\n",
        "for estoque in estoques:\n",
        "  if estoque == 'maça':\n",
        "    print('não há no estoque')\n",
        "  elif estoque =='uva':\n",
        "    print('não há no estoque')\n",
        "  else:\n",
        "    print('pedido disponível na fileira 13')"
      ],
      "metadata": {
        "colab": {
          "base_uri": "https://localhost:8080/"
        },
        "id": "kAyx_qzsYPkM",
        "outputId": "edf359ae-aabf-4a0e-8dd1-2bab5a005405"
      },
      "execution_count": null,
      "outputs": [
        {
          "output_type": "stream",
          "name": "stdout",
          "text": [
            "não há no estoque\n",
            "não há no estoque\n",
            "pedido disponível na fileira 13\n",
            "pedido disponível na fileira 13\n",
            "pedido disponível na fileira 13\n",
            "pedido disponível na fileira 13\n",
            "pedido disponível na fileira 13\n",
            "pedido disponível na fileira 13\n"
          ]
        }
      ]
    },
    {
      "cell_type": "code",
      "source": [
        "frutas = ['maça', 'manga', 'uva', 'perâ', 'melão']\n",
        "for fruta in frutas:\n",
        "  if 'limão' in frutas:\n",
        "    print('hoje teremos suco')\n",
        "  else:\n",
        "    print('não teremos suco')\n",
        "\n",
        "  "
      ],
      "metadata": {
        "colab": {
          "base_uri": "https://localhost:8080/"
        },
        "id": "S9dk6Pq3xudR",
        "outputId": "756831e4-0f29-443e-ca6f-bec750a214ef"
      },
      "execution_count": null,
      "outputs": [
        {
          "output_type": "stream",
          "name": "stdout",
          "text": [
            "não teremos suco\n",
            "não teremos suco\n",
            "não teremos suco\n",
            "não teremos suco\n",
            "não teremos suco\n"
          ]
        }
      ]
    },
    {
      "cell_type": "code",
      "source": [
        "pedidos = ['limão', 'pão', 'manteiga', 'óleo', 'arroz', 'feijão']\n",
        "for pedido in pedidos:\n",
        "  if 'tomate' in pedidos:\n",
        "    print('não há tomates')\n",
        "  else:\n",
        "    print('pedido concluido')"
      ],
      "metadata": {
        "colab": {
          "base_uri": "https://localhost:8080/"
        },
        "id": "m-M5E-5_D2l8",
        "outputId": "6aaca558-2ccc-470e-b86d-8bcc8c7946ed"
      },
      "execution_count": null,
      "outputs": [
        {
          "output_type": "stream",
          "name": "stdout",
          "text": [
            "pedido concluido\n",
            "pedido concluido\n",
            "pedido concluido\n",
            "pedido concluido\n",
            "pedido concluido\n",
            "pedido concluido\n"
          ]
        }
      ]
    },
    {
      "cell_type": "code",
      "source": [
        "if pedidos:\n",
        "  for pedido in pedidos:\n",
        "    print(f'temos {pedido}')\n",
        "  else:\n",
        "    print('lista vazia')\n",
        "  print('pedido concluido')"
      ],
      "metadata": {
        "colab": {
          "base_uri": "https://localhost:8080/"
        },
        "id": "Nn4CBqpwFqvZ",
        "outputId": "507d8b7d-fe7e-45e3-df72-2df946e3ca05"
      },
      "execution_count": null,
      "outputs": [
        {
          "output_type": "stream",
          "name": "stdout",
          "text": [
            "temos limão\n",
            "temos pão\n",
            "temos manteiga\n",
            "temos óleo\n",
            "temos arroz\n",
            "temos feijão\n",
            "lista vazia\n",
            "pedido concluido\n"
          ]
        }
      ]
    },
    {
      "cell_type": "code",
      "source": [
        "frutas\n",
        "estoques = ['limão', 'melão', 'manga']\n",
        "for estoque in estoques:\n",
        "  if estoque in frutas:\n",
        "    print(f'nós temos a {fruta}')\n",
        "  else:\n",
        "    print(f'não temos {estoque}')\n"
      ],
      "metadata": {
        "colab": {
          "base_uri": "https://localhost:8080/"
        },
        "id": "b7tpOxbgGNKa",
        "outputId": "74745b12-b7b8-4fca-8d85-81f9613ed855"
      },
      "execution_count": null,
      "outputs": [
        {
          "output_type": "stream",
          "name": "stdout",
          "text": [
            "não temos limão\n",
            "nós temos a melão\n",
            "nós temos a melão\n"
          ]
        }
      ]
    },
    {
      "cell_type": "code",
      "source": [
        " "
      ],
      "metadata": {
        "id": "hB4bUgFnHXmL"
      },
      "execution_count": null,
      "outputs": []
    },
    {
      "cell_type": "markdown",
      "source": [
        "DICIONÁRIOS"
      ],
      "metadata": {
        "id": "AKm-nVb_zjfY"
      }
    },
    {
      "cell_type": "code",
      "source": [
        "dados = {'nome': 'Marcos', 'sobrenome':'Morris', 'idade': 45, 'cidade': 'New York'}\n",
        "print(dados)"
      ],
      "metadata": {
        "colab": {
          "base_uri": "https://localhost:8080/"
        },
        "id": "xu_ZPSoKzlOg",
        "outputId": "4b00a668-f4db-4bef-ab26-cd7f09d1ed14"
      },
      "execution_count": null,
      "outputs": [
        {
          "output_type": "stream",
          "name": "stdout",
          "text": [
            "{'nome': 'Marcos', 'sobrenome': 'Morris', 'idade': 45, 'cidade': 'New York'}\n"
          ]
        }
      ]
    },
    {
      "cell_type": "code",
      "source": [
        "dados"
      ],
      "metadata": {
        "colab": {
          "base_uri": "https://localhost:8080/"
        },
        "id": "UOMWuNBWz-NI",
        "outputId": "c86b4903-5565-49df-e169-93a4d8e599c8"
      },
      "execution_count": null,
      "outputs": [
        {
          "output_type": "execute_result",
          "data": {
            "text/plain": [
              "{'cidade': 'New York', 'idade': 45, 'nome': 'Marcos', 'sobrenome': 'Morris'}"
            ]
          },
          "metadata": {},
          "execution_count": 22
        }
      ]
    },
    {
      "cell_type": "code",
      "source": [
        "carros_favoritos = {'Daniel':'Porsche', 'Krieger':'Ferrari'}\n",
        "print(carros_favoritos)\n",
        "print('O carro favorito do meu amigo Daniel é: ' + ' '+ carros_favoritos['Daniel'])\n",
        "print('O carro favorito do meu amigo Krieger é:' + ''+ carros_favoritos['Krieger'])"
      ],
      "metadata": {
        "colab": {
          "base_uri": "https://localhost:8080/"
        },
        "id": "s6v8qESe2OH0",
        "outputId": "855047bf-53fe-45ff-b99c-16991cc089dd"
      },
      "execution_count": null,
      "outputs": [
        {
          "output_type": "stream",
          "name": "stdout",
          "text": [
            "{'Daniel': 'Porsche', 'Krieger': 'Ferrari'}\n",
            "O carro favorito do meu amigo Daniel é:  Porsche\n",
            "O carro favorito do meu amigo Krieger é:Ferrari\n"
          ]
        }
      ]
    },
    {
      "cell_type": "code",
      "source": [
        "carros = {'Ford':'Fusion', 'honda':'civic', 'toyota':'corola'}\n",
        "print(carros)\n",
        "for carro in carros:\n",
        "  print('A marca'+ ' '+ carros['Ford'] + ' '+ 'foi fundada nos EUA')\n",
        "for key in carros.keys():\n",
        "  print(carros)"
      ],
      "metadata": {
        "colab": {
          "base_uri": "https://localhost:8080/"
        },
        "id": "QTBz2d5V5xmu",
        "outputId": "96fe5ce2-cb65-4ba6-c525-439b9676b20a"
      },
      "execution_count": null,
      "outputs": [
        {
          "output_type": "stream",
          "name": "stdout",
          "text": [
            "{'Ford': 'Fusion', 'honda': 'civic', 'toyota': 'corola'}\n",
            "A marca Fusion foi fundada nos EUA\n",
            "A marca Fusion foi fundada nos EUA\n",
            "A marca Fusion foi fundada nos EUA\n",
            "{'Ford': 'Fusion', 'honda': 'civic', 'toyota': 'corola'}\n",
            "{'Ford': 'Fusion', 'honda': 'civic', 'toyota': 'corola'}\n",
            "{'Ford': 'Fusion', 'honda': 'civic', 'toyota': 'corola'}\n"
          ]
        }
      ]
    },
    {
      "cell_type": "code",
      "source": [
        "carros = {'Ford':'Fusion', 'honda':'civic', 'toyota':'corola'}\n",
        "for key in carros.keys():\n",
        "  print(key.title())\n",
        "for value in carros.values():\n",
        "  print(value.title())"
      ],
      "metadata": {
        "colab": {
          "base_uri": "https://localhost:8080/"
        },
        "id": "eyJHDlWI62gx",
        "outputId": "0f69944f-ce5d-4278-e49a-a80283859844"
      },
      "execution_count": null,
      "outputs": [
        {
          "output_type": "stream",
          "name": "stdout",
          "text": [
            "Ford\n",
            "Honda\n",
            "Toyota\n",
            "Fusion\n",
            "Civic\n",
            "Corola\n"
          ]
        }
      ]
    },
    {
      "cell_type": "code",
      "source": [
        "LISTA DE DICIONÁRIOS"
      ],
      "metadata": {
        "id": "e70Vs7MGaUo2"
      },
      "execution_count": null,
      "outputs": []
    },
    {
      "cell_type": "code",
      "source": [
        "carro_01 = {'marca':'honda', 'modelo':'city', 'motor':1.5}\n",
        "carro_02 = {'marca':'ford', 'modelo':'fusion', 'motor':2.0}\n",
        "carro_03 = {'marca':'toyota','modelo':'citi', 'motor':1.5}"
      ],
      "metadata": {
        "id": "GrRy-fIFb9ut"
      },
      "execution_count": null,
      "outputs": []
    },
    {
      "cell_type": "markdown",
      "source": [
        ""
      ],
      "metadata": {
        "id": "IXoGq51QaVD3"
      }
    },
    {
      "cell_type": "code",
      "source": [
        "carro_01"
      ],
      "metadata": {
        "colab": {
          "base_uri": "https://localhost:8080/"
        },
        "id": "2D7nQDcjckVA",
        "outputId": "b37f9a21-e042-494a-e344-d2f936fc177a"
      },
      "execution_count": null,
      "outputs": [
        {
          "output_type": "execute_result",
          "data": {
            "text/plain": [
              "{'marca': 'honda', 'modelo': 'city', 'motor': 1.5}"
            ]
          },
          "metadata": {},
          "execution_count": 21
        }
      ]
    },
    {
      "cell_type": "code",
      "source": [
        "carro_02"
      ],
      "metadata": {
        "colab": {
          "base_uri": "https://localhost:8080/"
        },
        "id": "UFXNhK1Lcmua",
        "outputId": "0bad71f5-14ef-4cb2-d275-623edeaf56e4"
      },
      "execution_count": null,
      "outputs": [
        {
          "output_type": "execute_result",
          "data": {
            "text/plain": [
              "{'marca': 'ford', 'modelo': 'fusion', 'motor': 2.0}"
            ]
          },
          "metadata": {},
          "execution_count": 22
        }
      ]
    },
    {
      "cell_type": "code",
      "source": [
        "carro_03"
      ],
      "metadata": {
        "colab": {
          "base_uri": "https://localhost:8080/"
        },
        "id": "1hFJTdwgcogg",
        "outputId": "aa8ad750-77a5-46c0-f800-b7ebd9b63911"
      },
      "execution_count": null,
      "outputs": [
        {
          "output_type": "execute_result",
          "data": {
            "text/plain": [
              "{'marca': 'toyota', 'modelo': 'citi', 'motor': 1.5}"
            ]
          },
          "metadata": {},
          "execution_count": 23
        }
      ]
    },
    {
      "cell_type": "code",
      "source": [
        "carros = [carro_01, carro_02, carro_03]\n",
        "for carro in carros:\n",
        "  print(carros)"
      ],
      "metadata": {
        "colab": {
          "base_uri": "https://localhost:8080/"
        },
        "id": "OI-34iuedCnt",
        "outputId": "8a35fc66-594d-40a6-ff33-5e81f1ee3dd2"
      },
      "execution_count": null,
      "outputs": [
        {
          "output_type": "stream",
          "name": "stdout",
          "text": [
            "[{'marca': 'honda', 'modelo': 'city', 'motor': 1.5}, {'marca': 'ford', 'modelo': 'fusion', 'motor': 2.0}, {'marca': 'toyota', 'modelo': 'citi', 'motor': 1.5}]\n",
            "[{'marca': 'honda', 'modelo': 'city', 'motor': 1.5}, {'marca': 'ford', 'modelo': 'fusion', 'motor': 2.0}, {'marca': 'toyota', 'modelo': 'citi', 'motor': 1.5}]\n",
            "[{'marca': 'honda', 'modelo': 'city', 'motor': 1.5}, {'marca': 'ford', 'modelo': 'fusion', 'motor': 2.0}, {'marca': 'toyota', 'modelo': 'citi', 'motor': 1.5}]\n"
          ]
        }
      ]
    },
    {
      "cell_type": "code",
      "source": [
        "carros =[]\n"
      ],
      "metadata": {
        "id": "6qivpIHxdMXA"
      },
      "execution_count": null,
      "outputs": []
    },
    {
      "cell_type": "code",
      "source": [
        "for carro_numero in range(20):\n",
        "  novo_carro = {'marca':'fiat', 'modelo':'palio', 'motor': 1.0}\n",
        "  carros.append(novo_carro)"
      ],
      "metadata": {
        "id": "Ca0tQ4eim-lQ"
      },
      "execution_count": null,
      "outputs": []
    },
    {
      "cell_type": "code",
      "source": [
        "for carro in carros[:5]:\n",
        "  print(carro)"
      ],
      "metadata": {
        "colab": {
          "base_uri": "https://localhost:8080/"
        },
        "id": "Vj4MJo2KniyW",
        "outputId": "6be0c412-30ad-4ad1-89a5-8154a0f36ece"
      },
      "execution_count": null,
      "outputs": [
        {
          "output_type": "stream",
          "name": "stdout",
          "text": [
            "{'marca': 'fiat', 'modelo': 'palio', 'motor': 1.0}\n",
            "{'marca': 'fiat', 'modelo': 'palio', 'motor': 1.0}\n",
            "{'marca': 'fiat', 'modelo': 'palio', 'motor': 1.0}\n",
            "{'marca': 'fiat', 'modelo': 'palio', 'motor': 1.0}\n",
            "{'marca': 'fiat', 'modelo': 'palio', 'motor': 1.0}\n"
          ]
        }
      ]
    },
    {
      "cell_type": "code",
      "source": [
        "cidade_01 = {'nome':'Curitiba', 'ano':1932, 'estado':'Paraná'}\n",
        "cidade_02 = {'nome':'Brasilia', 'ano':1960, 'estado':'Distrito Federal'}\n",
        "cidade_03 = {'nome':'Rio de Janeiro', 'ano':1955, 'estado':'Rio'}\n",
        "cidades = [cidade_01, cidade_02, cidade_03]\n",
        "print(cidades)"
      ],
      "metadata": {
        "colab": {
          "base_uri": "https://localhost:8080/"
        },
        "id": "HTTVOxG_pTwD",
        "outputId": "b0d71822-4e37-4a7b-85c7-a4e128194552"
      },
      "execution_count": null,
      "outputs": [
        {
          "output_type": "stream",
          "name": "stdout",
          "text": [
            "[{'nome': 'Curitiba', 'ano': 1932, 'estado': 'Paraná'}, {'nome': 'Brasilia', 'ano': 1960, 'estado': 'Distrito Federal'}, {'nome': 'Rio de Janeiro', 'ano': 1955, 'estado': 'Rio'}]\n"
          ]
        }
      ]
    },
    {
      "cell_type": "code",
      "source": [
        "for cidade in cidades:\n",
        "  print(cidade)"
      ],
      "metadata": {
        "colab": {
          "base_uri": "https://localhost:8080/"
        },
        "id": "KgklJBT5px8v",
        "outputId": "04ba2809-581b-40da-aafc-1c4a9c4bbef5"
      },
      "execution_count": null,
      "outputs": [
        {
          "output_type": "stream",
          "name": "stdout",
          "text": [
            "{'nome': 'Curitiba', 'ano': 1932, 'estado': 'Paraná'}\n",
            "{'nome': 'Brasilia', 'ano': 1960, 'estado': 'Distrito Federal'}\n",
            "{'nome': 'Rio de Janeiro', 'ano': 1955, 'estado': 'Rio'}\n"
          ]
        }
      ]
    },
    {
      "cell_type": "code",
      "source": [
        "fruta_01 = {'nome':'maça', 'cor':'vermelha', 'estação':'inverno'}\n",
        "fruta_02 = {'nome':'manga', 'cor':'amarela', 'estação':'verão'}\n",
        "fruta_03 = {'nome':'limão', 'cor':'verde', 'estação':'todas'}\n",
        "frutas = [fruta_01, fruta_02, fruta_03]\n",
        "for fruta in frutas:\n",
        "  print(fruta)"
      ],
      "metadata": {
        "colab": {
          "base_uri": "https://localhost:8080/"
        },
        "id": "oiQ8BnO_p8R-",
        "outputId": "470e459f-f321-4512-b09e-c8f953bc4a39"
      },
      "execution_count": null,
      "outputs": [
        {
          "output_type": "stream",
          "name": "stdout",
          "text": [
            "{'nome': 'maça', 'cor': 'vermelha', 'estação': 'inverno'}\n",
            "{'nome': 'manga', 'cor': 'amarela', 'estação': 'verão'}\n",
            "{'nome': 'limão', 'cor': 'verde', 'estação': 'todas'}\n"
          ]
        }
      ]
    },
    {
      "cell_type": "markdown",
      "source": [
        "INPUT"
      ],
      "metadata": {
        "id": "_nSODzJRsYbn"
      }
    },
    {
      "cell_type": "code",
      "source": [
        "nome_completo = input('Digite seu nome completo:')\n",
        "print(f'Caro(a)' + ' ' + nome_completo + ' ' + 'seja bem vindo(a)')"
      ],
      "metadata": {
        "colab": {
          "base_uri": "https://localhost:8080/"
        },
        "id": "iGynmHZ_sahx",
        "outputId": "a67753a3-e50d-42c0-a44a-cf03dd352a90"
      },
      "execution_count": null,
      "outputs": [
        {
          "output_type": "stream",
          "name": "stdout",
          "text": [
            "Digite seu nome completo:Marcos Leandro Matias Morris\n",
            "Caro(a) Marcos Leandro Matias Morris seja bem vindo(a)\n"
          ]
        }
      ]
    },
    {
      "cell_type": "code",
      "source": [
        "nome_completo = input('Digite seu nome completo:')\n",
        "idade = int(input('Digite sua idade:'))\n",
        "if idade <= 18:\n",
        "  print(f'Caro(a)' + ' ' + nome_completo.title() + ' ' + 'você não tem permissão para acessar ao site')\n",
        "else:\n",
        "  print(f'Caro(a)' + ' ' + nome_completo + ' '+ 'favor continuar para acessar ao site')"
      ],
      "metadata": {
        "colab": {
          "base_uri": "https://localhost:8080/"
        },
        "id": "3V-8X8htszTj",
        "outputId": "85fe6d43-a0c5-44de-d440-b702e1ace63f"
      },
      "execution_count": null,
      "outputs": [
        {
          "output_type": "stream",
          "name": "stdout",
          "text": [
            "Digite seu nome completo:marcos\n",
            "Digite sua idade:19\n",
            "Caro(a) marcos favor continuar para acessar ao site\n"
          ]
        }
      ]
    },
    {
      "cell_type": "markdown",
      "source": [
        "ATIVADORES WHILE"
      ],
      "metadata": {
        "id": "ZdofF3ip8ziF"
      }
    },
    {
      "cell_type": "code",
      "source": [
        "numero = 1\n",
        "while numero <= 10:\n",
        "  print(numero)\n",
        "  numero +=1"
      ],
      "metadata": {
        "colab": {
          "base_uri": "https://localhost:8080/"
        },
        "id": "rJwcIolj82rZ",
        "outputId": "88e1456b-8982-45e8-8a7d-419cbeef5377"
      },
      "execution_count": 2,
      "outputs": [
        {
          "output_type": "stream",
          "name": "stdout",
          "text": [
            "1\n",
            "2\n",
            "3\n",
            "4\n",
            "5\n",
            "6\n",
            "7\n",
            "8\n",
            "9\n",
            "10\n"
          ]
        }
      ]
    },
    {
      "cell_type": "code",
      "source": [
        "numero = 5\n",
        "while numero <= 20:\n",
        "  print(numero)\n",
        "  numero +=2\n"
      ],
      "metadata": {
        "colab": {
          "base_uri": "https://localhost:8080/"
        },
        "id": "s-Re-G539eEW",
        "outputId": "cb57b8aa-fdd5-4226-8943-36c8442993b3"
      },
      "execution_count": 4,
      "outputs": [
        {
          "output_type": "stream",
          "name": "stdout",
          "text": [
            "5\n",
            "7\n",
            "9\n",
            "11\n",
            "13\n",
            "15\n",
            "17\n",
            "19\n"
          ]
        }
      ]
    },
    {
      "cell_type": "code",
      "source": [
        "texto = \"\\n Escreva uma mensagem qualquer:\"\n",
        "texto += \"\\n Digite 'sair' para finalizar o programa \"\n",
        "mensagem =  ' '\n",
        "while mensagem.lower() != 'sair':\n",
        "  mensagem = input(texto)\n",
        "  if mensagem != 'sair':\n",
        "    print(mensagem)\n"
      ],
      "metadata": {
        "colab": {
          "base_uri": "https://localhost:8080/"
        },
        "id": "q9_O1imp-sKE",
        "outputId": "a61edf29-4cfb-4492-e723-a6f915d940e2"
      },
      "execution_count": 8,
      "outputs": [
        {
          "name": "stdout",
          "output_type": "stream",
          "text": [
            "\n",
            " Escreva uma mensagem qualquer:\n",
            " Digite 'sair' para finalizar o programa oi\n",
            "oi\n",
            "\n",
            " Escreva uma mensagem qualquer:\n",
            " Digite 'sair' para finalizar o programa sair\n"
          ]
        }
      ]
    },
    {
      "cell_type": "code",
      "source": [
        "texto = \"\\n Digite seu nome completo: \"\n",
        "texto != \"\\n Digite 'sair' para finalizar o programa\"\n",
        "\n",
        "mensagem = ' '\n",
        "while mensagem.lower() != 'sair':\n",
        "  mensagem = input(texto)\n",
        "  if mensagem != 'sair':\n",
        "    print(mensagem)"
      ],
      "metadata": {
        "colab": {
          "base_uri": "https://localhost:8080/"
        },
        "id": "C4u3vsiT_f-2",
        "outputId": "99e1d6b0-ad28-4cfd-ce15-e8e7da5b60fa"
      },
      "execution_count": 10,
      "outputs": [
        {
          "name": "stdout",
          "output_type": "stream",
          "text": [
            "\n",
            " Digite seu nome completo: Marcos\n",
            "Marcos\n",
            "\n",
            " Digite seu nome completo: sair\n"
          ]
        }
      ]
    },
    {
      "cell_type": "code",
      "source": [
        "texto = '\\n Qual sua cidade favorita: '\n",
        "texto != \"(Para interromper, digite 'sair')\"\n",
        "while True:\n",
        "  cidade = input(texto)\n",
        "  if cidade.lower() == 'sair':\n",
        "    break\n",
        "  else:\n",
        "    print(f'Minha cidade favorita é {cidade}')\n",
        "\n"
      ],
      "metadata": {
        "colab": {
          "base_uri": "https://localhost:8080/"
        },
        "id": "Ruf88aGhAfFy",
        "outputId": "c8252679-37b6-4361-f4fa-3932b9e22894"
      },
      "execution_count": 13,
      "outputs": [
        {
          "name": "stdout",
          "output_type": "stream",
          "text": [
            "\n",
            " Qual sua cidade favorita: Portland\n",
            "Minha cidade favorita é Portland\n",
            "\n",
            " Qual sua cidade favorita: New York\n",
            "Minha cidade favorita é New York\n",
            "\n",
            " Qual sua cidade favorita: Philadelfia\n",
            "Minha cidade favorita é Philadelfia\n",
            "\n",
            " Qual sua cidade favorita: sair\n"
          ]
        }
      ]
    },
    {
      "cell_type": "code",
      "source": [
        "idade = int(input('Digite sua idade: '))\n",
        "if idade <= 2:\n",
        "  print('Entrada gratuita')\n",
        "elif idade > 2 and idade <= 12:\n",
        "  print('valor da meia entrada é de 10 reais')\n",
        "else:\n",
        "  print('você pdeverá pagar o valor total do ingresso')"
      ],
      "metadata": {
        "colab": {
          "base_uri": "https://localhost:8080/"
        },
        "id": "ZoyKSxXVCwlR",
        "outputId": "2cdb998b-2c2e-4909-8bb4-f50c0628ec3d"
      },
      "execution_count": 18,
      "outputs": [
        {
          "output_type": "stream",
          "name": "stdout",
          "text": [
            "Digite sua idade: 20\n",
            "você pdeverá pagar o valor total do ingresso\n"
          ]
        }
      ]
    },
    {
      "cell_type": "code",
      "source": [
        "idade = ' '\n",
        "while True:\n",
        "  idade = input('Digite sua idade:')\n",
        "  if int(idade) <= 2:\n",
        "    print('Entrada gratuita')\n",
        "  elif int(idade) > 2 and int(idade) <=12:\n",
        "    print('valor da meia entrada é de 10 reais')\n",
        "  elif int(idade) > 12 and int(idade) <=60:\n",
        "    print('valor da entrada é de 20 reais')\n",
        "  else:\n",
        "    print('Entrada gratuita')\n",
        "    break"
      ],
      "metadata": {
        "colab": {
          "base_uri": "https://localhost:8080/"
        },
        "id": "SMwoRT2nEGG5",
        "outputId": "e5d93815-5ed1-45fd-bf14-cfd5f74489f1"
      },
      "execution_count": 24,
      "outputs": [
        {
          "output_type": "stream",
          "name": "stdout",
          "text": [
            "Digite sua idade:8\n",
            "valor da meia entrada é de 10 reais\n",
            "Digite sua idade:61\n",
            "Entrada gratuita\n"
          ]
        }
      ]
    }
  ]
}